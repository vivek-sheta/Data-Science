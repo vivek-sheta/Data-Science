{
 "cells": [
  {
   "cell_type": "code",
   "execution_count": 22,
   "metadata": {},
   "outputs": [],
   "source": [
    "dataset = [ ['1','3','4'],\n",
    "            ['2','3','5'],\n",
    "            ['1','2','3','5'],\n",
    "            ['2','5'],\n",
    "            ['1','3','5'] ]"
   ]
  },
  {
   "cell_type": "code",
   "execution_count": 7,
   "metadata": {},
   "outputs": [
    {
     "name": "stdout",
     "output_type": "stream",
     "text": [
      "[['1', '3', '4'], ['2', '3', '5'], ['1', '2', '3', '5'], ['2', '5'], ['1', '3', '5']]\n"
     ]
    }
   ],
   "source": [
    "print(dataset)"
   ]
  },
  {
   "cell_type": "code",
   "execution_count": 23,
   "metadata": {},
   "outputs": [
    {
     "name": "stdout",
     "output_type": "stream",
     "text": [
      "       1      2      3      4      5\n",
      "0   True  False   True   True  False\n",
      "1  False   True   True  False   True\n",
      "2   True   True   True  False   True\n",
      "3  False   True  False  False   True\n",
      "4   True  False   True  False   True\n"
     ]
    }
   ],
   "source": [
    "import pandas as pd\n",
    "from mlxtend.preprocessing import TransactionEncoder\n",
    "\n",
    "te = TransactionEncoder()\n",
    "teArray = te.fit(dataset).transform(dataset)\n",
    "df = pd.DataFrame(teArray,columns=te.columns_)\n",
    "print(df)"
   ]
  },
  {
   "cell_type": "code",
   "execution_count": 24,
   "metadata": {},
   "outputs": [
    {
     "name": "stdout",
     "output_type": "stream",
     "text": [
      "   support itemsets\n",
      "0      0.6      (1)\n",
      "1      0.6      (2)\n",
      "2      0.8      (3)\n",
      "3      0.8      (5)\n",
      "4      0.6   (1, 3)\n",
      "5      0.6   (5, 2)\n",
      "6      0.6   (5, 3)\n"
     ]
    }
   ],
   "source": [
    "from mlxtend.frequent_patterns import apriori\n",
    "\n",
    "frequentItemsApriori = apriori(df,min_support=0.5,use_colnames=True)\n",
    "print(frequentItemsApriori)"
   ]
  },
  {
   "cell_type": "code",
   "execution_count": 25,
   "metadata": {},
   "outputs": [
    {
     "name": "stdout",
     "output_type": "stream",
     "text": [
      "   support itemsets\n",
      "0      0.8      (3)\n",
      "1      0.6      (1)\n",
      "2      0.8      (5)\n",
      "3      0.6      (2)\n",
      "4      0.6   (5, 3)\n",
      "5      0.6   (1, 3)\n",
      "6      0.6   (5, 2)\n"
     ]
    }
   ],
   "source": [
    "from mlxtend.frequent_patterns import fpgrowth\n",
    "\n",
    "frequentItemsFp = fpgrowth(df,min_support=0.5,use_colnames=True)\n",
    "print(frequentItemsFp)"
   ]
  },
  {
   "cell_type": "code",
   "execution_count": 26,
   "metadata": {},
   "outputs": [
    {
     "name": "stdout",
     "output_type": "stream",
     "text": [
      "  antecedents consequents  antecedent support  ...    lift  leverage  conviction\n",
      "0         (1)         (3)                 0.6  ...  1.2500      0.12         inf\n",
      "1         (3)         (1)                 0.8  ...  1.2500      0.12         1.6\n",
      "2         (5)         (2)                 0.8  ...  1.2500      0.12         1.6\n",
      "3         (2)         (5)                 0.6  ...  1.2500      0.12         inf\n",
      "4         (5)         (3)                 0.8  ...  0.9375     -0.04         0.8\n",
      "5         (3)         (5)                 0.8  ...  0.9375     -0.04         0.8\n",
      "\n",
      "[6 rows x 9 columns]\n"
     ]
    }
   ],
   "source": [
    "from mlxtend.frequent_patterns import association_rules\n",
    "\n",
    "rulesAp = association_rules(frequentItemsApriori,metric=\"confidence\", min_threshold=0)\n",
    "rulesFp = association_rules(frequentItemsFp,metric=\"confidence\", min_threshold=0)\n",
    "\n",
    "print(rulesAp)"
   ]
  },
  {
   "cell_type": "code",
   "execution_count": 21,
   "metadata": {},
   "outputs": [
    {
     "name": "stdout",
     "output_type": "stream",
     "text": [
      "   antecedents consequents  antecedent support  ...      lift  leverage  conviction\n",
      "0          (5)         (3)                 0.8  ...  0.937500     -0.04         0.8\n",
      "1          (3)         (5)                 0.8  ...  0.937500     -0.04         0.8\n",
      "2          (1)         (3)                 0.6  ...  1.250000      0.12         inf\n",
      "3          (3)         (1)                 0.8  ...  1.250000      0.12         1.6\n",
      "4          (5)         (1)                 0.8  ...  0.833333     -0.08         0.8\n",
      "5          (1)         (5)                 0.6  ...  0.833333     -0.08         0.6\n",
      "6       (5, 1)         (3)                 0.4  ...  1.250000      0.08         inf\n",
      "7       (5, 3)         (1)                 0.6  ...  1.111111      0.04         1.2\n",
      "8       (1, 3)         (5)                 0.6  ...  0.833333     -0.08         0.6\n",
      "9          (5)      (1, 3)                 0.8  ...  0.833333     -0.08         0.8\n",
      "10         (1)      (5, 3)                 0.6  ...  1.111111      0.04         1.2\n",
      "11         (3)      (5, 1)                 0.8  ...  1.250000      0.08         1.2\n",
      "12         (5)         (2)                 0.8  ...  1.250000      0.12         1.6\n",
      "13         (2)         (5)                 0.6  ...  1.250000      0.12         inf\n",
      "14         (3)         (2)                 0.8  ...  0.833333     -0.08         0.8\n",
      "15         (2)         (3)                 0.6  ...  0.833333     -0.08         0.6\n",
      "16      (5, 3)         (2)                 0.6  ...  1.111111      0.04         1.2\n",
      "17      (5, 2)         (3)                 0.6  ...  0.833333     -0.08         0.6\n",
      "18      (2, 3)         (5)                 0.4  ...  1.250000      0.08         inf\n",
      "19         (5)      (2, 3)                 0.8  ...  1.250000      0.08         1.2\n",
      "20         (3)      (5, 2)                 0.8  ...  0.833333     -0.08         0.8\n",
      "21         (2)      (5, 3)                 0.6  ...  1.111111      0.04         1.2\n",
      "\n",
      "[22 rows x 9 columns]\n"
     ]
    }
   ],
   "source": [
    "print(rulesFp)"
   ]
  }
 ],
 "metadata": {
  "interpreter": {
   "hash": "4d5fadebf90d837c54bf183644d6a997a043172172aff51885dac9ab96f6c734"
  },
  "kernelspec": {
   "display_name": "Python 3.6.8 64-bit",
   "language": "python",
   "name": "python3"
  },
  "language_info": {
   "codemirror_mode": {
    "name": "ipython",
    "version": 3
   },
   "file_extension": ".py",
   "mimetype": "text/x-python",
   "name": "python",
   "nbconvert_exporter": "python",
   "pygments_lexer": "ipython3",
   "version": "3.6.8"
  },
  "orig_nbformat": 4
 },
 "nbformat": 4,
 "nbformat_minor": 2
}
